{
 "cells": [
  {
   "cell_type": "markdown",
   "id": "placed-membrane",
   "metadata": {},
   "source": [
    "# Import numpy and pandas"
   ]
  },
  {
   "cell_type": "code",
   "execution_count": 6,
   "id": "likely-funeral",
   "metadata": {},
   "outputs": [
    {
     "data": {
      "text/plain": [
       "<pandas.core.groupby.generic.DataFrameGroupBy object at 0x7fd6680ea160>"
      ]
     },
     "execution_count": 6,
     "metadata": {},
     "output_type": "execute_result"
    }
   ],
   "source": [
    "import numpy as np\n",
    "import pandas as pd\n",
    "\n",
    "# load the dataset \n",
    "df = pd.read_csv('creditcard.csv')"
   ]
  },
  {
   "cell_type": "code",
   "execution_count": 8,
   "id": "greatest-scheme",
   "metadata": {},
   "outputs": [
    {
     "name": "stdout",
     "output_type": "stream",
     "text": [
      "<class 'pandas.core.frame.DataFrame'>\n",
      "RangeIndex: 284807 entries, 0 to 284806\n",
      "Data columns (total 31 columns):\n",
      " #   Column  Non-Null Count   Dtype  \n",
      "---  ------  --------------   -----  \n",
      " 0   Time    284807 non-null  float64\n",
      " 1   V1      284807 non-null  float64\n",
      " 2   V2      284807 non-null  float64\n",
      " 3   V3      284807 non-null  float64\n",
      " 4   V4      284807 non-null  float64\n",
      " 5   V5      284807 non-null  float64\n",
      " 6   V6      284807 non-null  float64\n",
      " 7   V7      284807 non-null  float64\n",
      " 8   V8      284807 non-null  float64\n",
      " 9   V9      284807 non-null  float64\n",
      " 10  V10     284807 non-null  float64\n",
      " 11  V11     284807 non-null  float64\n",
      " 12  V12     284807 non-null  float64\n",
      " 13  V13     284807 non-null  float64\n",
      " 14  V14     284807 non-null  float64\n",
      " 15  V15     284807 non-null  float64\n",
      " 16  V16     284807 non-null  float64\n",
      " 17  V17     284807 non-null  float64\n",
      " 18  V18     284807 non-null  float64\n",
      " 19  V19     284807 non-null  float64\n",
      " 20  V20     284807 non-null  float64\n",
      " 21  V21     284807 non-null  float64\n",
      " 22  V22     284807 non-null  float64\n",
      " 23  V23     284807 non-null  float64\n",
      " 24  V24     284807 non-null  float64\n",
      " 25  V25     284807 non-null  float64\n",
      " 26  V26     284807 non-null  float64\n",
      " 27  V27     284807 non-null  float64\n",
      " 28  V28     284807 non-null  float64\n",
      " 29  Amount  284807 non-null  float64\n",
      " 30  Class   284807 non-null  int64  \n",
      "dtypes: float64(30), int64(1)\n",
      "memory usage: 67.4 MB\n"
     ]
    },
    {
     "data": {
      "text/plain": [
       "Time      0\n",
       "V1        0\n",
       "V2        0\n",
       "V3        0\n",
       "V4        0\n",
       "V5        0\n",
       "V6        0\n",
       "V7        0\n",
       "V8        0\n",
       "V9        0\n",
       "V10       0\n",
       "V11       0\n",
       "V12       0\n",
       "V13       0\n",
       "V14       0\n",
       "V15       0\n",
       "V16       0\n",
       "V17       0\n",
       "V18       0\n",
       "V19       0\n",
       "V20       0\n",
       "V21       0\n",
       "V22       0\n",
       "V23       0\n",
       "V24       0\n",
       "V25       0\n",
       "V26       0\n",
       "V27       0\n",
       "V28       0\n",
       "Amount    0\n",
       "Class     0\n",
       "dtype: int64"
      ]
     },
     "execution_count": 8,
     "metadata": {},
     "output_type": "execute_result"
    }
   ],
   "source": [
    "# get information about the data set\n",
    "\n",
    "df.info()\n",
    "\n",
    "# Check the number of missing values in each column \n",
    "\n",
    "df.isnull().sum()"
   ]
  },
  {
   "cell_type": "code",
   "execution_count": 9,
   "id": "freelance-humidity",
   "metadata": {},
   "outputs": [
    {
     "data": {
      "text/plain": [
       "0    284315\n",
       "1       492\n",
       "Name: Class, dtype: int64"
      ]
     },
     "execution_count": 9,
     "metadata": {},
     "output_type": "execute_result"
    }
   ],
   "source": [
    "# Distribution of the legit and fraudulet transactions \n",
    "df['Class'].value_counts()"
   ]
  },
  {
   "cell_type": "markdown",
   "id": "incorrect-perry",
   "metadata": {},
   "source": [
    "0 --> Normal/legit transaction\n",
    "\n",
    "1 --> fraudulet transaction"
   ]
  },
  {
   "cell_type": "code",
   "execution_count": null,
   "id": "essential-belief",
   "metadata": {},
   "outputs": [],
   "source": [
    "# Separte the data for more analysis\n",
    "normal = df[df.Class == 0]\n",
    "fraud  = df[df.Class == 1]"
   ]
  },
  {
   "cell_type": "code",
   "execution_count": 12,
   "id": "rental-layer",
   "metadata": {},
   "outputs": [
    {
     "name": "stdout",
     "output_type": "stream",
     "text": [
      "(284315, 31)\n",
      "(492, 31)\n"
     ]
    }
   ],
   "source": [
    "print(normal.shape)\n",
    "print(fraud.shape)"
   ]
  },
  {
   "cell_type": "code",
   "execution_count": 14,
   "id": "derived-injection",
   "metadata": {},
   "outputs": [
    {
     "data": {
      "text/plain": [
       "count     492.000000\n",
       "mean      122.211321\n",
       "std       256.683288\n",
       "min         0.000000\n",
       "25%         1.000000\n",
       "50%         9.250000\n",
       "75%       105.890000\n",
       "max      2125.870000\n",
       "Name: Amount, dtype: float64"
      ]
     },
     "execution_count": 14,
     "metadata": {},
     "output_type": "execute_result"
    }
   ],
   "source": [
    "# statistical measures \n",
    "normal.Amount.describe()\n",
    "fraud.Amount.describe()"
   ]
  },
  {
   "cell_type": "code",
   "execution_count": 15,
   "id": "unique-forge",
   "metadata": {
    "scrolled": true
   },
   "outputs": [
    {
     "data": {
      "text/html": [
       "<div>\n",
       "<style scoped>\n",
       "    .dataframe tbody tr th:only-of-type {\n",
       "        vertical-align: middle;\n",
       "    }\n",
       "\n",
       "    .dataframe tbody tr th {\n",
       "        vertical-align: top;\n",
       "    }\n",
       "\n",
       "    .dataframe thead th {\n",
       "        text-align: right;\n",
       "    }\n",
       "</style>\n",
       "<table border=\"1\" class=\"dataframe\">\n",
       "  <thead>\n",
       "    <tr style=\"text-align: right;\">\n",
       "      <th></th>\n",
       "      <th>Time</th>\n",
       "      <th>V1</th>\n",
       "      <th>V2</th>\n",
       "      <th>V3</th>\n",
       "      <th>V4</th>\n",
       "      <th>V5</th>\n",
       "      <th>V6</th>\n",
       "      <th>V7</th>\n",
       "      <th>V8</th>\n",
       "      <th>V9</th>\n",
       "      <th>...</th>\n",
       "      <th>V20</th>\n",
       "      <th>V21</th>\n",
       "      <th>V22</th>\n",
       "      <th>V23</th>\n",
       "      <th>V24</th>\n",
       "      <th>V25</th>\n",
       "      <th>V26</th>\n",
       "      <th>V27</th>\n",
       "      <th>V28</th>\n",
       "      <th>Amount</th>\n",
       "    </tr>\n",
       "    <tr>\n",
       "      <th>Class</th>\n",
       "      <th></th>\n",
       "      <th></th>\n",
       "      <th></th>\n",
       "      <th></th>\n",
       "      <th></th>\n",
       "      <th></th>\n",
       "      <th></th>\n",
       "      <th></th>\n",
       "      <th></th>\n",
       "      <th></th>\n",
       "      <th></th>\n",
       "      <th></th>\n",
       "      <th></th>\n",
       "      <th></th>\n",
       "      <th></th>\n",
       "      <th></th>\n",
       "      <th></th>\n",
       "      <th></th>\n",
       "      <th></th>\n",
       "      <th></th>\n",
       "      <th></th>\n",
       "    </tr>\n",
       "  </thead>\n",
       "  <tbody>\n",
       "    <tr>\n",
       "      <th>0</th>\n",
       "      <td>94838.202258</td>\n",
       "      <td>0.008258</td>\n",
       "      <td>-0.006271</td>\n",
       "      <td>0.012171</td>\n",
       "      <td>-0.007860</td>\n",
       "      <td>0.005453</td>\n",
       "      <td>0.002419</td>\n",
       "      <td>0.009637</td>\n",
       "      <td>-0.000987</td>\n",
       "      <td>0.004467</td>\n",
       "      <td>...</td>\n",
       "      <td>-0.000644</td>\n",
       "      <td>-0.001235</td>\n",
       "      <td>-0.000024</td>\n",
       "      <td>0.000070</td>\n",
       "      <td>0.000182</td>\n",
       "      <td>-0.000072</td>\n",
       "      <td>-0.000089</td>\n",
       "      <td>-0.000295</td>\n",
       "      <td>-0.000131</td>\n",
       "      <td>88.291022</td>\n",
       "    </tr>\n",
       "    <tr>\n",
       "      <th>1</th>\n",
       "      <td>80746.806911</td>\n",
       "      <td>-4.771948</td>\n",
       "      <td>3.623778</td>\n",
       "      <td>-7.033281</td>\n",
       "      <td>4.542029</td>\n",
       "      <td>-3.151225</td>\n",
       "      <td>-1.397737</td>\n",
       "      <td>-5.568731</td>\n",
       "      <td>0.570636</td>\n",
       "      <td>-2.581123</td>\n",
       "      <td>...</td>\n",
       "      <td>0.372319</td>\n",
       "      <td>0.713588</td>\n",
       "      <td>0.014049</td>\n",
       "      <td>-0.040308</td>\n",
       "      <td>-0.105130</td>\n",
       "      <td>0.041449</td>\n",
       "      <td>0.051648</td>\n",
       "      <td>0.170575</td>\n",
       "      <td>0.075667</td>\n",
       "      <td>122.211321</td>\n",
       "    </tr>\n",
       "  </tbody>\n",
       "</table>\n",
       "<p>2 rows × 30 columns</p>\n",
       "</div>"
      ],
      "text/plain": [
       "               Time        V1        V2        V3        V4        V5  \\\n",
       "Class                                                                   \n",
       "0      94838.202258  0.008258 -0.006271  0.012171 -0.007860  0.005453   \n",
       "1      80746.806911 -4.771948  3.623778 -7.033281  4.542029 -3.151225   \n",
       "\n",
       "             V6        V7        V8        V9  ...       V20       V21  \\\n",
       "Class                                          ...                       \n",
       "0      0.002419  0.009637 -0.000987  0.004467  ... -0.000644 -0.001235   \n",
       "1     -1.397737 -5.568731  0.570636 -2.581123  ...  0.372319  0.713588   \n",
       "\n",
       "            V22       V23       V24       V25       V26       V27       V28  \\\n",
       "Class                                                                         \n",
       "0     -0.000024  0.000070  0.000182 -0.000072 -0.000089 -0.000295 -0.000131   \n",
       "1      0.014049 -0.040308 -0.105130  0.041449  0.051648  0.170575  0.075667   \n",
       "\n",
       "           Amount  \n",
       "Class              \n",
       "0       88.291022  \n",
       "1      122.211321  \n",
       "\n",
       "[2 rows x 30 columns]"
      ]
     },
     "execution_count": 15,
     "metadata": {},
     "output_type": "execute_result"
    }
   ],
   "source": [
    "# Compare the values for fraud and normal transations \n",
    "\n",
    "df.groupby('Class').mean()"
   ]
  },
  {
   "cell_type": "markdown",
   "id": "electric-aside",
   "metadata": {},
   "source": [
    "# Under sampling \n",
    "\n",
    "Build a sample dataset that has the same number of dataelements as that of the fraudulent transaction, i.e, ---> 492"
   ]
  },
  {
   "cell_type": "code",
   "execution_count": 18,
   "id": "indonesian-eleven",
   "metadata": {},
   "outputs": [
    {
     "data": {
      "text/html": [
       "<div>\n",
       "<style scoped>\n",
       "    .dataframe tbody tr th:only-of-type {\n",
       "        vertical-align: middle;\n",
       "    }\n",
       "\n",
       "    .dataframe tbody tr th {\n",
       "        vertical-align: top;\n",
       "    }\n",
       "\n",
       "    .dataframe thead th {\n",
       "        text-align: right;\n",
       "    }\n",
       "</style>\n",
       "<table border=\"1\" class=\"dataframe\">\n",
       "  <thead>\n",
       "    <tr style=\"text-align: right;\">\n",
       "      <th></th>\n",
       "      <th>Time</th>\n",
       "      <th>V1</th>\n",
       "      <th>V2</th>\n",
       "      <th>V3</th>\n",
       "      <th>V4</th>\n",
       "      <th>V5</th>\n",
       "      <th>V6</th>\n",
       "      <th>V7</th>\n",
       "      <th>V8</th>\n",
       "      <th>V9</th>\n",
       "      <th>...</th>\n",
       "      <th>V21</th>\n",
       "      <th>V22</th>\n",
       "      <th>V23</th>\n",
       "      <th>V24</th>\n",
       "      <th>V25</th>\n",
       "      <th>V26</th>\n",
       "      <th>V27</th>\n",
       "      <th>V28</th>\n",
       "      <th>Amount</th>\n",
       "      <th>Class</th>\n",
       "    </tr>\n",
       "  </thead>\n",
       "  <tbody>\n",
       "    <tr>\n",
       "      <th>276152</th>\n",
       "      <td>166933.0</td>\n",
       "      <td>-2.339020</td>\n",
       "      <td>2.451100</td>\n",
       "      <td>-1.763667</td>\n",
       "      <td>-0.512509</td>\n",
       "      <td>-0.393720</td>\n",
       "      <td>-1.390607</td>\n",
       "      <td>0.020040</td>\n",
       "      <td>0.799736</td>\n",
       "      <td>0.354050</td>\n",
       "      <td>...</td>\n",
       "      <td>0.374384</td>\n",
       "      <td>1.345085</td>\n",
       "      <td>0.165373</td>\n",
       "      <td>-0.064806</td>\n",
       "      <td>-0.548682</td>\n",
       "      <td>-0.293059</td>\n",
       "      <td>-0.537804</td>\n",
       "      <td>-0.130735</td>\n",
       "      <td>0.89</td>\n",
       "      <td>0</td>\n",
       "    </tr>\n",
       "    <tr>\n",
       "      <th>268210</th>\n",
       "      <td>163109.0</td>\n",
       "      <td>2.018888</td>\n",
       "      <td>-1.177058</td>\n",
       "      <td>0.021121</td>\n",
       "      <td>-0.480715</td>\n",
       "      <td>-1.450846</td>\n",
       "      <td>0.035421</td>\n",
       "      <td>-1.411534</td>\n",
       "      <td>0.192914</td>\n",
       "      <td>0.153693</td>\n",
       "      <td>...</td>\n",
       "      <td>-0.280014</td>\n",
       "      <td>-0.288991</td>\n",
       "      <td>0.332784</td>\n",
       "      <td>-0.362044</td>\n",
       "      <td>-0.719958</td>\n",
       "      <td>0.486977</td>\n",
       "      <td>0.002768</td>\n",
       "      <td>-0.043074</td>\n",
       "      <td>32.80</td>\n",
       "      <td>0</td>\n",
       "    </tr>\n",
       "    <tr>\n",
       "      <th>404</th>\n",
       "      <td>292.0</td>\n",
       "      <td>-0.401849</td>\n",
       "      <td>1.015111</td>\n",
       "      <td>1.302010</td>\n",
       "      <td>-0.042208</td>\n",
       "      <td>0.055806</td>\n",
       "      <td>-0.683093</td>\n",
       "      <td>0.561144</td>\n",
       "      <td>0.106408</td>\n",
       "      <td>-0.570880</td>\n",
       "      <td>...</td>\n",
       "      <td>-0.215930</td>\n",
       "      <td>-0.623168</td>\n",
       "      <td>-0.013880</td>\n",
       "      <td>0.262950</td>\n",
       "      <td>-0.207349</td>\n",
       "      <td>0.056362</td>\n",
       "      <td>0.237041</td>\n",
       "      <td>0.087456</td>\n",
       "      <td>4.45</td>\n",
       "      <td>0</td>\n",
       "    </tr>\n",
       "    <tr>\n",
       "      <th>92660</th>\n",
       "      <td>64034.0</td>\n",
       "      <td>1.248151</td>\n",
       "      <td>-1.464237</td>\n",
       "      <td>0.455511</td>\n",
       "      <td>-1.222046</td>\n",
       "      <td>-1.508484</td>\n",
       "      <td>0.065084</td>\n",
       "      <td>-1.093242</td>\n",
       "      <td>0.121021</td>\n",
       "      <td>-1.671062</td>\n",
       "      <td>...</td>\n",
       "      <td>-0.277432</td>\n",
       "      <td>-0.465507</td>\n",
       "      <td>0.014900</td>\n",
       "      <td>-0.000160</td>\n",
       "      <td>0.260870</td>\n",
       "      <td>-0.264165</td>\n",
       "      <td>0.034807</td>\n",
       "      <td>0.019703</td>\n",
       "      <td>96.82</td>\n",
       "      <td>0</td>\n",
       "    </tr>\n",
       "    <tr>\n",
       "      <th>255453</th>\n",
       "      <td>157237.0</td>\n",
       "      <td>1.846475</td>\n",
       "      <td>-1.127908</td>\n",
       "      <td>0.002191</td>\n",
       "      <td>-0.074453</td>\n",
       "      <td>-1.752890</td>\n",
       "      <td>-1.187657</td>\n",
       "      <td>-0.751699</td>\n",
       "      <td>-0.276239</td>\n",
       "      <td>-0.221863</td>\n",
       "      <td>...</td>\n",
       "      <td>-0.045899</td>\n",
       "      <td>0.282442</td>\n",
       "      <td>0.274169</td>\n",
       "      <td>0.977305</td>\n",
       "      <td>-0.583172</td>\n",
       "      <td>0.580459</td>\n",
       "      <td>-0.021903</td>\n",
       "      <td>-0.012894</td>\n",
       "      <td>118.00</td>\n",
       "      <td>0</td>\n",
       "    </tr>\n",
       "  </tbody>\n",
       "</table>\n",
       "<p>5 rows × 31 columns</p>\n",
       "</div>"
      ],
      "text/plain": [
       "            Time        V1        V2        V3        V4        V5        V6  \\\n",
       "276152  166933.0 -2.339020  2.451100 -1.763667 -0.512509 -0.393720 -1.390607   \n",
       "268210  163109.0  2.018888 -1.177058  0.021121 -0.480715 -1.450846  0.035421   \n",
       "404        292.0 -0.401849  1.015111  1.302010 -0.042208  0.055806 -0.683093   \n",
       "92660    64034.0  1.248151 -1.464237  0.455511 -1.222046 -1.508484  0.065084   \n",
       "255453  157237.0  1.846475 -1.127908  0.002191 -0.074453 -1.752890 -1.187657   \n",
       "\n",
       "              V7        V8        V9  ...       V21       V22       V23  \\\n",
       "276152  0.020040  0.799736  0.354050  ...  0.374384  1.345085  0.165373   \n",
       "268210 -1.411534  0.192914  0.153693  ... -0.280014 -0.288991  0.332784   \n",
       "404     0.561144  0.106408 -0.570880  ... -0.215930 -0.623168 -0.013880   \n",
       "92660  -1.093242  0.121021 -1.671062  ... -0.277432 -0.465507  0.014900   \n",
       "255453 -0.751699 -0.276239 -0.221863  ... -0.045899  0.282442  0.274169   \n",
       "\n",
       "             V24       V25       V26       V27       V28  Amount  Class  \n",
       "276152 -0.064806 -0.548682 -0.293059 -0.537804 -0.130735    0.89      0  \n",
       "268210 -0.362044 -0.719958  0.486977  0.002768 -0.043074   32.80      0  \n",
       "404     0.262950 -0.207349  0.056362  0.237041  0.087456    4.45      0  \n",
       "92660  -0.000160  0.260870 -0.264165  0.034807  0.019703   96.82      0  \n",
       "255453  0.977305 -0.583172  0.580459 -0.021903 -0.012894  118.00      0  \n",
       "\n",
       "[5 rows x 31 columns]"
      ]
     },
     "execution_count": 18,
     "metadata": {},
     "output_type": "execute_result"
    }
   ],
   "source": [
    "normal_samp = normal.sample(n=492)\n",
    "# Concatinate the two dataframes\n",
    "\n",
    "new_df = pd.concat([normal_samp, fraud], axis=0)\n",
    "new_df.head()"
   ]
  },
  {
   "cell_type": "code",
   "execution_count": 22,
   "id": "moral-hormone",
   "metadata": {},
   "outputs": [
    {
     "data": {
      "text/html": [
       "<div>\n",
       "<style scoped>\n",
       "    .dataframe tbody tr th:only-of-type {\n",
       "        vertical-align: middle;\n",
       "    }\n",
       "\n",
       "    .dataframe tbody tr th {\n",
       "        vertical-align: top;\n",
       "    }\n",
       "\n",
       "    .dataframe thead th {\n",
       "        text-align: right;\n",
       "    }\n",
       "</style>\n",
       "<table border=\"1\" class=\"dataframe\">\n",
       "  <thead>\n",
       "    <tr style=\"text-align: right;\">\n",
       "      <th></th>\n",
       "      <th>Time</th>\n",
       "      <th>V1</th>\n",
       "      <th>V2</th>\n",
       "      <th>V3</th>\n",
       "      <th>V4</th>\n",
       "      <th>V5</th>\n",
       "      <th>V6</th>\n",
       "      <th>V7</th>\n",
       "      <th>V8</th>\n",
       "      <th>V9</th>\n",
       "      <th>...</th>\n",
       "      <th>V20</th>\n",
       "      <th>V21</th>\n",
       "      <th>V22</th>\n",
       "      <th>V23</th>\n",
       "      <th>V24</th>\n",
       "      <th>V25</th>\n",
       "      <th>V26</th>\n",
       "      <th>V27</th>\n",
       "      <th>V28</th>\n",
       "      <th>Amount</th>\n",
       "    </tr>\n",
       "    <tr>\n",
       "      <th>Class</th>\n",
       "      <th></th>\n",
       "      <th></th>\n",
       "      <th></th>\n",
       "      <th></th>\n",
       "      <th></th>\n",
       "      <th></th>\n",
       "      <th></th>\n",
       "      <th></th>\n",
       "      <th></th>\n",
       "      <th></th>\n",
       "      <th></th>\n",
       "      <th></th>\n",
       "      <th></th>\n",
       "      <th></th>\n",
       "      <th></th>\n",
       "      <th></th>\n",
       "      <th></th>\n",
       "      <th></th>\n",
       "      <th></th>\n",
       "      <th></th>\n",
       "      <th></th>\n",
       "    </tr>\n",
       "  </thead>\n",
       "  <tbody>\n",
       "    <tr>\n",
       "      <th>0</th>\n",
       "      <td>94922.473577</td>\n",
       "      <td>0.036388</td>\n",
       "      <td>0.025555</td>\n",
       "      <td>0.052991</td>\n",
       "      <td>-0.084825</td>\n",
       "      <td>0.040686</td>\n",
       "      <td>-0.000971</td>\n",
       "      <td>0.027714</td>\n",
       "      <td>-0.021634</td>\n",
       "      <td>-0.050323</td>\n",
       "      <td>...</td>\n",
       "      <td>-0.016642</td>\n",
       "      <td>-0.043957</td>\n",
       "      <td>-0.001337</td>\n",
       "      <td>0.031554</td>\n",
       "      <td>-0.005294</td>\n",
       "      <td>0.021203</td>\n",
       "      <td>0.000339</td>\n",
       "      <td>-0.032485</td>\n",
       "      <td>-0.025104</td>\n",
       "      <td>74.179329</td>\n",
       "    </tr>\n",
       "    <tr>\n",
       "      <th>1</th>\n",
       "      <td>80746.806911</td>\n",
       "      <td>-4.771948</td>\n",
       "      <td>3.623778</td>\n",
       "      <td>-7.033281</td>\n",
       "      <td>4.542029</td>\n",
       "      <td>-3.151225</td>\n",
       "      <td>-1.397737</td>\n",
       "      <td>-5.568731</td>\n",
       "      <td>0.570636</td>\n",
       "      <td>-2.581123</td>\n",
       "      <td>...</td>\n",
       "      <td>0.372319</td>\n",
       "      <td>0.713588</td>\n",
       "      <td>0.014049</td>\n",
       "      <td>-0.040308</td>\n",
       "      <td>-0.105130</td>\n",
       "      <td>0.041449</td>\n",
       "      <td>0.051648</td>\n",
       "      <td>0.170575</td>\n",
       "      <td>0.075667</td>\n",
       "      <td>122.211321</td>\n",
       "    </tr>\n",
       "  </tbody>\n",
       "</table>\n",
       "<p>2 rows × 30 columns</p>\n",
       "</div>"
      ],
      "text/plain": [
       "               Time        V1        V2        V3        V4        V5  \\\n",
       "Class                                                                   \n",
       "0      94922.473577  0.036388  0.025555  0.052991 -0.084825  0.040686   \n",
       "1      80746.806911 -4.771948  3.623778 -7.033281  4.542029 -3.151225   \n",
       "\n",
       "             V6        V7        V8        V9  ...       V20       V21  \\\n",
       "Class                                          ...                       \n",
       "0     -0.000971  0.027714 -0.021634 -0.050323  ... -0.016642 -0.043957   \n",
       "1     -1.397737 -5.568731  0.570636 -2.581123  ...  0.372319  0.713588   \n",
       "\n",
       "            V22       V23       V24       V25       V26       V27       V28  \\\n",
       "Class                                                                         \n",
       "0     -0.001337  0.031554 -0.005294  0.021203  0.000339 -0.032485 -0.025104   \n",
       "1      0.014049 -0.040308 -0.105130  0.041449  0.051648  0.170575  0.075667   \n",
       "\n",
       "           Amount  \n",
       "Class              \n",
       "0       74.179329  \n",
       "1      122.211321  \n",
       "\n",
       "[2 rows x 30 columns]"
      ]
     },
     "execution_count": 22,
     "metadata": {},
     "output_type": "execute_result"
    }
   ],
   "source": [
    "new_df['Class'].value_counts() # Number of counts in the class colum \n",
    "new_df.groupby('Class').mean() # Groupes the data based on the mean of the dataset in each column and class"
   ]
  },
  {
   "cell_type": "code",
   "execution_count": 23,
   "id": "dirty-usage",
   "metadata": {},
   "outputs": [],
   "source": [
    "# Split the data as features(independent) and target (dependent)\n",
    "\n",
    "x = new_df.drop(columns='Class', axis=1)\n",
    "y = new_df['Class']"
   ]
  },
  {
   "cell_type": "code",
   "execution_count": 25,
   "id": "dimensional-airplane",
   "metadata": {},
   "outputs": [],
   "source": [
    "# Split the data as training and test data \n",
    "from sklearn.model_selection import train_test_split\n",
    "x_train, x_test, y_train, y_test = train_test_split(x,y, test_size = 0.2, stratify=y, random_state=2)"
   ]
  },
  {
   "cell_type": "markdown",
   "id": "heavy-feedback",
   "metadata": {},
   "source": [
    "# Model training \n",
    "\n",
    "logistic regression model\n"
   ]
  },
  {
   "cell_type": "code",
   "execution_count": 27,
   "id": "advisory-pillow",
   "metadata": {},
   "outputs": [
    {
     "data": {
      "text/plain": [
       "LogisticRegression()"
      ]
     },
     "execution_count": 27,
     "metadata": {},
     "output_type": "execute_result"
    }
   ],
   "source": [
    "from sklearn.linear_model import LogisticRegression\n",
    "model = LogisticRegression()\n",
    "# train the model\n",
    "model.fit(x_train, y_train)\n"
   ]
  },
  {
   "cell_type": "markdown",
   "id": "proved-google",
   "metadata": {},
   "source": [
    "\n",
    "# Model Evaluation\n",
    "\n",
    "\n",
    "Accuracy score \n"
   ]
  },
  {
   "cell_type": "code",
   "execution_count": 28,
   "id": "altered-memphis",
   "metadata": {},
   "outputs": [],
   "source": [
    "from sklearn.metrics import accuracy_score"
   ]
  },
  {
   "cell_type": "code",
   "execution_count": 31,
   "id": "subsequent-trinidad",
   "metadata": {},
   "outputs": [
    {
     "name": "stdout",
     "output_type": "stream",
     "text": [
      "Accuracy of the training dataset : 0.9313850063532402\n"
     ]
    }
   ],
   "source": [
    "# Accuracy on the training data \n",
    "x_train_prediction = model.predict(x_train)\n",
    "\n",
    "training_data_accuracy = accuracy_score(x_train_prediction, y_train)\n",
    "print('Accuracy of the training dataset :', training_data_accuracy)"
   ]
  },
  {
   "cell_type": "code",
   "execution_count": 33,
   "id": "choice-refrigerator",
   "metadata": {},
   "outputs": [
    {
     "name": "stdout",
     "output_type": "stream",
     "text": [
      "Accuracy of test dataset : 0.9137055837563451\n"
     ]
    }
   ],
   "source": [
    "# Accuracy on the test data \n",
    "x_test_prediction = model.predict(x_test)\n",
    "test_data_accuracy = accuracy_score(x_test_prediction, y_test)\n",
    "\n",
    "print('Accuracy of test dataset :', test_data_accuracy)"
   ]
  },
  {
   "cell_type": "code",
   "execution_count": null,
   "id": "organic-baseball",
   "metadata": {},
   "outputs": [],
   "source": []
  }
 ],
 "metadata": {
  "kernelspec": {
   "display_name": "Python 3",
   "language": "python",
   "name": "python3"
  },
  "language_info": {
   "codemirror_mode": {
    "name": "ipython",
    "version": 3
   },
   "file_extension": ".py",
   "mimetype": "text/x-python",
   "name": "python",
   "nbconvert_exporter": "python",
   "pygments_lexer": "ipython3",
   "version": "3.6.9"
  }
 },
 "nbformat": 4,
 "nbformat_minor": 5
}
